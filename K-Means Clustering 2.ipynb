{
 "cells": [
  {
   "cell_type": "markdown",
   "metadata": {},
   "source": [
    "# CLUSTERING"
   ]
  },
  {
   "cell_type": "markdown",
   "metadata": {},
   "source": [
    "- Name  : Zahrotul Nailul Izah\n",
    "- Class   : AI-3\n",
    "- Room  : Teknik Elektro, AJ-102"
   ]
  },
  {
   "cell_type": "markdown",
   "metadata": {},
   "source": [
    "### The task which given\n",
    "\n",
    "1.   Background\n",
    "2.   Objective\n",
    "3.   Related Work (Literature Review)\n",
    "4.   Proposed Method\n",
    "5.   Implementation\n",
    "6.   Experiment Result\n",
    "7.   Discussion\n",
    "8.   Conclusion"
   ]
  },
  {
   "cell_type": "markdown",
   "metadata": {},
   "source": [
    "### 1. Backgroud\n",
    "- Given the clustering problem and its dataset, and is asked to develop a classification model to classify the dataset. clustering is the task of partitioning the dataset into groups, called clusters. The goal is to split up the data in such a way that points  within  a  single  cluster are very similar and points in different clusters are different. \n",
    "- The clustering is unsupervised learning. Unsupervised learning does not aim to produce output in the response of the particular input instead it discovers patterns in data.  The analyzation of unsupervised learning is real-time. \n",
    "- To find an available parking space is not easy especially in a big city like Birmingham. The prediction of car park availability is the subject that has been studied in the context of smart cities. In a methodolody for predicting parking space availability in Intelligent Parking Reservation architectures is proposed. It consists of a real-time availability forecast algorithm that evaluates each parking requests according to drivers' preferences and parking availibility. They employ historical information of entering and leaving to update and predict the availability for each parking alternative. Based on the information, if we want to predict the data in real-time we can use the clustering method. "
   ]
  },
  {
   "cell_type": "markdown",
   "metadata": {},
   "source": [
    "### 2. Objective\n",
    "- Data collected from car parks in Birmingham that are operated by NCP from Birmingham City Council in the United Kingdom, licensed under the Open Government License v3.0. It includes the car parks operated by NCP in that city and is updated every 30 minutes from 8 AM to 5 PM from 4th October – 19th  December 2016. The attributes information are system code number, capacity, occupancy, and LastUpdate. In the LastUpdate data (contain the data of years, months, dates, and hours in one column), so  we must  separate or split them became different columns. After that, I choose which data I want to use. In this analysis, I choose to use to cluster data from occupancy data and the day (from 4th October – 19th December). The content of an Occupancy data is about how many car in parking space, then the content of a day is about the date when the data taken. In this analysis, I will cluster the records into two. the ones are available and the ones are not available."
   ]
  },
  {
   "cell_type": "markdown",
   "metadata": {},
   "source": [
    "### 3. Related Work (Literature Review)\n",
    "- According  to  Daniel  H,  and  etc they used some different training and testing sets to train their data (they also use Parking Birmingham dataset). They  have  trained  them  by  using  real  data  published  by  the  local  council  and presented the results obtained after testing them with one week of unseen parking data. Some methods are Polynomial Fitting (P), Fourier Series, k-Means Clustering, KM-Polynomials,  Shift  & Phase (SP), Time Series (TS). Based on their analysis, there is no clear winner but the time series predictor seems to show the best result. Shift  &  Phase  also  has  good results, especially if we take into account that it is simpler and requires just five parameters to predict a car park’s occupancy rate instead of a series of values. The k-Means Clustering and KM-Polynomials are the worst predictors as they are based on just the three clusters defined in training[1]. Based on that, I will also use the K-Means Clustering to know or compare if the result of the clustering will be the same or not.\n"
   ]
  },
  {
   "cell_type": "markdown",
   "metadata": {},
   "source": [
    "### 4. Proposed Method\n",
    "- There are some methods which can used to clustering data, but in this analysis I will use K-Means Clustering. k-Means Clustering is one of the simplest and most commonly used clustering algorithms. It tries to find cluster centers that are representative of certain regions of the data. The algorithm alternates between two steps: assigning each data point to the closest cluster center, and then setting each cluster center as the mean of the data points  that  are  assigned  to  it.  The  algorithm  is  finished  when  the assignment of instances to clusters no longer changes. In this analysis, I will cluster the records into two. the ones are available and the ones are not available to find at what time when the driver search availability parking space to parking."
   ]
  },
  {
   "cell_type": "markdown",
   "metadata": {},
   "source": [
    "### 5. Implementation\n",
    "- This following method of K-Means Clustering which I use:"
   ]
  },
  {
   "cell_type": "markdown",
   "metadata": {},
   "source": [
    "**Install Python packages**"
   ]
  },
  {
   "cell_type": "code",
   "execution_count": 1,
   "metadata": {},
   "outputs": [],
   "source": [
    "import pandas as pd\n",
    "import numpy as np\n",
    "import scipy as sp\n",
    "from sklearn.cluster import KMeans\n",
    "from sklearn.preprocessing import MinMaxScaler\n",
    "import seaborn as sns\n",
    "import matplotlib.pyplot as plt\n",
    "%matplotlib inline"
   ]
  },
  {
   "cell_type": "markdown",
   "metadata": {},
   "source": [
    "Input the data which I will use"
   ]
  },
  {
   "cell_type": "code",
   "execution_count": 7,
   "metadata": {},
   "outputs": [
    {
     "data": {
      "text/html": [
       "<div>\n",
       "<style scoped>\n",
       "    .dataframe tbody tr th:only-of-type {\n",
       "        vertical-align: middle;\n",
       "    }\n",
       "\n",
       "    .dataframe tbody tr th {\n",
       "        vertical-align: top;\n",
       "    }\n",
       "\n",
       "    .dataframe thead th {\n",
       "        text-align: right;\n",
       "    }\n",
       "</style>\n",
       "<table border=\"1\" class=\"dataframe\">\n",
       "  <thead>\n",
       "    <tr style=\"text-align: right;\">\n",
       "      <th></th>\n",
       "      <th>Capacity</th>\n",
       "      <th>Occupancy</th>\n",
       "      <th>LastUpdated</th>\n",
       "    </tr>\n",
       "    <tr>\n",
       "      <th>SystemCodeNumber</th>\n",
       "      <th></th>\n",
       "      <th></th>\n",
       "      <th></th>\n",
       "    </tr>\n",
       "  </thead>\n",
       "  <tbody>\n",
       "    <tr>\n",
       "      <th>BHMBCCMKT01</th>\n",
       "      <td>577</td>\n",
       "      <td>61</td>\n",
       "      <td>2016-10-04 07:59:42</td>\n",
       "    </tr>\n",
       "    <tr>\n",
       "      <th>BHMBCCMKT01</th>\n",
       "      <td>577</td>\n",
       "      <td>64</td>\n",
       "      <td>2016-10-04 08:25:42</td>\n",
       "    </tr>\n",
       "    <tr>\n",
       "      <th>BHMBCCMKT01</th>\n",
       "      <td>577</td>\n",
       "      <td>80</td>\n",
       "      <td>2016-10-04 08:59:42</td>\n",
       "    </tr>\n",
       "    <tr>\n",
       "      <th>BHMBCCMKT01</th>\n",
       "      <td>577</td>\n",
       "      <td>107</td>\n",
       "      <td>2016-10-04 09:32:46</td>\n",
       "    </tr>\n",
       "    <tr>\n",
       "      <th>BHMBCCMKT01</th>\n",
       "      <td>577</td>\n",
       "      <td>150</td>\n",
       "      <td>2016-10-04 09:59:48</td>\n",
       "    </tr>\n",
       "    <tr>\n",
       "      <th>BHMBCCMKT01</th>\n",
       "      <td>577</td>\n",
       "      <td>177</td>\n",
       "      <td>2016-10-04 10:26:49</td>\n",
       "    </tr>\n",
       "    <tr>\n",
       "      <th>BHMBCCMKT01</th>\n",
       "      <td>577</td>\n",
       "      <td>219</td>\n",
       "      <td>2016-10-04 10:59:48</td>\n",
       "    </tr>\n",
       "    <tr>\n",
       "      <th>BHMBCCMKT01</th>\n",
       "      <td>577</td>\n",
       "      <td>247</td>\n",
       "      <td>2016-10-04 11:25:47</td>\n",
       "    </tr>\n",
       "    <tr>\n",
       "      <th>BHMBCCMKT01</th>\n",
       "      <td>577</td>\n",
       "      <td>259</td>\n",
       "      <td>2016-10-04 11:59:44</td>\n",
       "    </tr>\n",
       "    <tr>\n",
       "      <th>BHMBCCMKT01</th>\n",
       "      <td>577</td>\n",
       "      <td>266</td>\n",
       "      <td>2016-10-04 12:29:45</td>\n",
       "    </tr>\n",
       "  </tbody>\n",
       "</table>\n",
       "</div>"
      ],
      "text/plain": [
       "                  Capacity  Occupancy          LastUpdated\n",
       "SystemCodeNumber                                          \n",
       "BHMBCCMKT01            577         61  2016-10-04 07:59:42\n",
       "BHMBCCMKT01            577         64  2016-10-04 08:25:42\n",
       "BHMBCCMKT01            577         80  2016-10-04 08:59:42\n",
       "BHMBCCMKT01            577        107  2016-10-04 09:32:46\n",
       "BHMBCCMKT01            577        150  2016-10-04 09:59:48\n",
       "BHMBCCMKT01            577        177  2016-10-04 10:26:49\n",
       "BHMBCCMKT01            577        219  2016-10-04 10:59:48\n",
       "BHMBCCMKT01            577        247  2016-10-04 11:25:47\n",
       "BHMBCCMKT01            577        259  2016-10-04 11:59:44\n",
       "BHMBCCMKT01            577        266  2016-10-04 12:29:45"
      ]
     },
     "execution_count": 7,
     "metadata": {},
     "output_type": "execute_result"
    }
   ],
   "source": [
    "dataset = 'dataset.csv'\n",
    "dataset_file = open(dataset, 'r')\n",
    "datf = pd.read_csv(dataset_file, index_col=0)\n",
    "datf.head(10) # this mean if the data will show 10 rows, the default is 5 rows"
   ]
  },
  {
   "cell_type": "markdown",
   "metadata": {},
   "source": [
    "Because the time data above become one columns and will be difficult to analysis , I will separate them to each columns"
   ]
  },
  {
   "cell_type": "code",
   "execution_count": 8,
   "metadata": {},
   "outputs": [],
   "source": [
    "#categorical encoding\n",
    "datf['year'] = datf['LastUpdated'].map(lambda x: int(x.split(\" \")[0].split(\"-\")[0]))\n",
    "datf['month'] = datf['LastUpdated'].map(lambda x: int(x.split(\" \")[0].split(\"-\")[1]))\n",
    "datf['day'] = datf['LastUpdated'].map(lambda x: int(x.split(\" \")[0].split(\"-\")[2]))\n",
    "datf['hour'] = datf['LastUpdated'].map(lambda x: int(x.split(\" \")[1].split(\":\")[0]))\n",
    "datf.drop(['LastUpdated'], axis=1, inplace=True)"
   ]
  },
  {
   "cell_type": "code",
   "execution_count": 9,
   "metadata": {},
   "outputs": [
    {
     "data": {
      "text/html": [
       "<div>\n",
       "<style scoped>\n",
       "    .dataframe tbody tr th:only-of-type {\n",
       "        vertical-align: middle;\n",
       "    }\n",
       "\n",
       "    .dataframe tbody tr th {\n",
       "        vertical-align: top;\n",
       "    }\n",
       "\n",
       "    .dataframe thead th {\n",
       "        text-align: right;\n",
       "    }\n",
       "</style>\n",
       "<table border=\"1\" class=\"dataframe\">\n",
       "  <thead>\n",
       "    <tr style=\"text-align: right;\">\n",
       "      <th></th>\n",
       "      <th>Capacity</th>\n",
       "      <th>Occupancy</th>\n",
       "      <th>year</th>\n",
       "      <th>month</th>\n",
       "      <th>day</th>\n",
       "      <th>hour</th>\n",
       "    </tr>\n",
       "    <tr>\n",
       "      <th>SystemCodeNumber</th>\n",
       "      <th></th>\n",
       "      <th></th>\n",
       "      <th></th>\n",
       "      <th></th>\n",
       "      <th></th>\n",
       "      <th></th>\n",
       "    </tr>\n",
       "  </thead>\n",
       "  <tbody>\n",
       "    <tr>\n",
       "      <th>BHMBCCMKT01</th>\n",
       "      <td>577</td>\n",
       "      <td>61</td>\n",
       "      <td>2016</td>\n",
       "      <td>10</td>\n",
       "      <td>4</td>\n",
       "      <td>7</td>\n",
       "    </tr>\n",
       "    <tr>\n",
       "      <th>BHMBCCMKT01</th>\n",
       "      <td>577</td>\n",
       "      <td>64</td>\n",
       "      <td>2016</td>\n",
       "      <td>10</td>\n",
       "      <td>4</td>\n",
       "      <td>8</td>\n",
       "    </tr>\n",
       "    <tr>\n",
       "      <th>BHMBCCMKT01</th>\n",
       "      <td>577</td>\n",
       "      <td>80</td>\n",
       "      <td>2016</td>\n",
       "      <td>10</td>\n",
       "      <td>4</td>\n",
       "      <td>8</td>\n",
       "    </tr>\n",
       "    <tr>\n",
       "      <th>BHMBCCMKT01</th>\n",
       "      <td>577</td>\n",
       "      <td>107</td>\n",
       "      <td>2016</td>\n",
       "      <td>10</td>\n",
       "      <td>4</td>\n",
       "      <td>9</td>\n",
       "    </tr>\n",
       "    <tr>\n",
       "      <th>BHMBCCMKT01</th>\n",
       "      <td>577</td>\n",
       "      <td>150</td>\n",
       "      <td>2016</td>\n",
       "      <td>10</td>\n",
       "      <td>4</td>\n",
       "      <td>9</td>\n",
       "    </tr>\n",
       "    <tr>\n",
       "      <th>BHMBCCMKT01</th>\n",
       "      <td>577</td>\n",
       "      <td>177</td>\n",
       "      <td>2016</td>\n",
       "      <td>10</td>\n",
       "      <td>4</td>\n",
       "      <td>10</td>\n",
       "    </tr>\n",
       "    <tr>\n",
       "      <th>BHMBCCMKT01</th>\n",
       "      <td>577</td>\n",
       "      <td>219</td>\n",
       "      <td>2016</td>\n",
       "      <td>10</td>\n",
       "      <td>4</td>\n",
       "      <td>10</td>\n",
       "    </tr>\n",
       "    <tr>\n",
       "      <th>BHMBCCMKT01</th>\n",
       "      <td>577</td>\n",
       "      <td>247</td>\n",
       "      <td>2016</td>\n",
       "      <td>10</td>\n",
       "      <td>4</td>\n",
       "      <td>11</td>\n",
       "    </tr>\n",
       "    <tr>\n",
       "      <th>BHMBCCMKT01</th>\n",
       "      <td>577</td>\n",
       "      <td>259</td>\n",
       "      <td>2016</td>\n",
       "      <td>10</td>\n",
       "      <td>4</td>\n",
       "      <td>11</td>\n",
       "    </tr>\n",
       "    <tr>\n",
       "      <th>BHMBCCMKT01</th>\n",
       "      <td>577</td>\n",
       "      <td>266</td>\n",
       "      <td>2016</td>\n",
       "      <td>10</td>\n",
       "      <td>4</td>\n",
       "      <td>12</td>\n",
       "    </tr>\n",
       "  </tbody>\n",
       "</table>\n",
       "</div>"
      ],
      "text/plain": [
       "                  Capacity  Occupancy  year  month  day  hour\n",
       "SystemCodeNumber                                             \n",
       "BHMBCCMKT01            577         61  2016     10    4     7\n",
       "BHMBCCMKT01            577         64  2016     10    4     8\n",
       "BHMBCCMKT01            577         80  2016     10    4     8\n",
       "BHMBCCMKT01            577        107  2016     10    4     9\n",
       "BHMBCCMKT01            577        150  2016     10    4     9\n",
       "BHMBCCMKT01            577        177  2016     10    4    10\n",
       "BHMBCCMKT01            577        219  2016     10    4    10\n",
       "BHMBCCMKT01            577        247  2016     10    4    11\n",
       "BHMBCCMKT01            577        259  2016     10    4    11\n",
       "BHMBCCMKT01            577        266  2016     10    4    12"
      ]
     },
     "execution_count": 9,
     "metadata": {},
     "output_type": "execute_result"
    }
   ],
   "source": [
    "datf.head(10)"
   ]
  },
  {
   "cell_type": "markdown",
   "metadata": {},
   "source": [
    "I want to check if there are missing values or not. "
   ]
  },
  {
   "cell_type": "code",
   "execution_count": 74,
   "metadata": {},
   "outputs": [
    {
     "data": {
      "text/html": [
       "<div>\n",
       "<style scoped>\n",
       "    .dataframe tbody tr th:only-of-type {\n",
       "        vertical-align: middle;\n",
       "    }\n",
       "\n",
       "    .dataframe tbody tr th {\n",
       "        vertical-align: top;\n",
       "    }\n",
       "\n",
       "    .dataframe thead th {\n",
       "        text-align: right;\n",
       "    }\n",
       "</style>\n",
       "<table border=\"1\" class=\"dataframe\">\n",
       "  <thead>\n",
       "    <tr style=\"text-align: right;\">\n",
       "      <th></th>\n",
       "      <th>Capacity</th>\n",
       "      <th>Occupancy</th>\n",
       "      <th>year</th>\n",
       "      <th>month</th>\n",
       "      <th>day</th>\n",
       "      <th>hour</th>\n",
       "    </tr>\n",
       "    <tr>\n",
       "      <th>SystemCodeNumber</th>\n",
       "      <th></th>\n",
       "      <th></th>\n",
       "      <th></th>\n",
       "      <th></th>\n",
       "      <th></th>\n",
       "      <th></th>\n",
       "    </tr>\n",
       "  </thead>\n",
       "  <tbody>\n",
       "    <tr>\n",
       "      <th>BHMBCCMKT01</th>\n",
       "      <td>False</td>\n",
       "      <td>False</td>\n",
       "      <td>False</td>\n",
       "      <td>False</td>\n",
       "      <td>False</td>\n",
       "      <td>False</td>\n",
       "    </tr>\n",
       "    <tr>\n",
       "      <th>BHMBCCMKT01</th>\n",
       "      <td>False</td>\n",
       "      <td>False</td>\n",
       "      <td>False</td>\n",
       "      <td>False</td>\n",
       "      <td>False</td>\n",
       "      <td>False</td>\n",
       "    </tr>\n",
       "    <tr>\n",
       "      <th>BHMBCCMKT01</th>\n",
       "      <td>False</td>\n",
       "      <td>False</td>\n",
       "      <td>False</td>\n",
       "      <td>False</td>\n",
       "      <td>False</td>\n",
       "      <td>False</td>\n",
       "    </tr>\n",
       "    <tr>\n",
       "      <th>BHMBCCMKT01</th>\n",
       "      <td>False</td>\n",
       "      <td>False</td>\n",
       "      <td>False</td>\n",
       "      <td>False</td>\n",
       "      <td>False</td>\n",
       "      <td>False</td>\n",
       "    </tr>\n",
       "    <tr>\n",
       "      <th>BHMBCCMKT01</th>\n",
       "      <td>False</td>\n",
       "      <td>False</td>\n",
       "      <td>False</td>\n",
       "      <td>False</td>\n",
       "      <td>False</td>\n",
       "      <td>False</td>\n",
       "    </tr>\n",
       "    <tr>\n",
       "      <th>BHMBCCMKT01</th>\n",
       "      <td>False</td>\n",
       "      <td>False</td>\n",
       "      <td>False</td>\n",
       "      <td>False</td>\n",
       "      <td>False</td>\n",
       "      <td>False</td>\n",
       "    </tr>\n",
       "    <tr>\n",
       "      <th>BHMBCCMKT01</th>\n",
       "      <td>False</td>\n",
       "      <td>False</td>\n",
       "      <td>False</td>\n",
       "      <td>False</td>\n",
       "      <td>False</td>\n",
       "      <td>False</td>\n",
       "    </tr>\n",
       "    <tr>\n",
       "      <th>BHMBCCMKT01</th>\n",
       "      <td>False</td>\n",
       "      <td>False</td>\n",
       "      <td>False</td>\n",
       "      <td>False</td>\n",
       "      <td>False</td>\n",
       "      <td>False</td>\n",
       "    </tr>\n",
       "    <tr>\n",
       "      <th>BHMBCCMKT01</th>\n",
       "      <td>False</td>\n",
       "      <td>False</td>\n",
       "      <td>False</td>\n",
       "      <td>False</td>\n",
       "      <td>False</td>\n",
       "      <td>False</td>\n",
       "    </tr>\n",
       "    <tr>\n",
       "      <th>BHMBCCMKT01</th>\n",
       "      <td>False</td>\n",
       "      <td>False</td>\n",
       "      <td>False</td>\n",
       "      <td>False</td>\n",
       "      <td>False</td>\n",
       "      <td>False</td>\n",
       "    </tr>\n",
       "  </tbody>\n",
       "</table>\n",
       "</div>"
      ],
      "text/plain": [
       "                  Capacity  Occupancy   year  month    day   hour\n",
       "SystemCodeNumber                                                 \n",
       "BHMBCCMKT01          False      False  False  False  False  False\n",
       "BHMBCCMKT01          False      False  False  False  False  False\n",
       "BHMBCCMKT01          False      False  False  False  False  False\n",
       "BHMBCCMKT01          False      False  False  False  False  False\n",
       "BHMBCCMKT01          False      False  False  False  False  False\n",
       "BHMBCCMKT01          False      False  False  False  False  False\n",
       "BHMBCCMKT01          False      False  False  False  False  False\n",
       "BHMBCCMKT01          False      False  False  False  False  False\n",
       "BHMBCCMKT01          False      False  False  False  False  False\n",
       "BHMBCCMKT01          False      False  False  False  False  False"
      ]
     },
     "execution_count": 74,
     "metadata": {},
     "output_type": "execute_result"
    }
   ],
   "source": [
    "# to know or check what file is missing\n",
    "datf.isna().head(10)"
   ]
  },
  {
   "cell_type": "code",
   "execution_count": 75,
   "metadata": {},
   "outputs": [
    {
     "name": "stdout",
     "output_type": "stream",
     "text": [
      "Capacity     0\n",
      "Occupancy    0\n",
      "year         0\n",
      "month        0\n",
      "day          0\n",
      "hour         0\n",
      "dtype: int64\n"
     ]
    }
   ],
   "source": [
    "print(datf.isna().sum())"
   ]
  },
  {
   "cell_type": "markdown",
   "metadata": {},
   "source": [
    "Based on the data above, there are no missing values. In this step, I start to build a K-Means Model. I want to check one again if the data which I used have the same types"
   ]
  },
  {
   "cell_type": "code",
   "execution_count": 76,
   "metadata": {},
   "outputs": [
    {
     "name": "stdout",
     "output_type": "stream",
     "text": [
      "<class 'pandas.core.frame.DataFrame'>\n",
      "Index: 35717 entries, BHMBCCMKT01 to Shopping\n",
      "Data columns (total 6 columns):\n",
      "Capacity     35717 non-null int64\n",
      "Occupancy    35717 non-null int64\n",
      "year         35717 non-null int64\n",
      "month        35717 non-null int64\n",
      "day          35717 non-null int64\n",
      "hour         35717 non-null int64\n",
      "dtypes: int64(6)\n",
      "memory usage: 1.9+ MB\n"
     ]
    }
   ],
   "source": [
    "# to see the data types of different features \n",
    "datf.info()"
   ]
  },
  {
   "cell_type": "markdown",
   "metadata": {},
   "source": [
    "I drop some features which I will not use. I just use 'Occupancy' and 'day'. "
   ]
  },
  {
   "cell_type": "code",
   "execution_count": 10,
   "metadata": {},
   "outputs": [
    {
     "data": {
      "text/html": [
       "<div>\n",
       "<style scoped>\n",
       "    .dataframe tbody tr th:only-of-type {\n",
       "        vertical-align: middle;\n",
       "    }\n",
       "\n",
       "    .dataframe tbody tr th {\n",
       "        vertical-align: top;\n",
       "    }\n",
       "\n",
       "    .dataframe thead th {\n",
       "        text-align: right;\n",
       "    }\n",
       "</style>\n",
       "<table border=\"1\" class=\"dataframe\">\n",
       "  <thead>\n",
       "    <tr style=\"text-align: right;\">\n",
       "      <th></th>\n",
       "      <th>Occupancy</th>\n",
       "      <th>day</th>\n",
       "    </tr>\n",
       "    <tr>\n",
       "      <th>SystemCodeNumber</th>\n",
       "      <th></th>\n",
       "      <th></th>\n",
       "    </tr>\n",
       "  </thead>\n",
       "  <tbody>\n",
       "    <tr>\n",
       "      <th>BHMBCCMKT01</th>\n",
       "      <td>61</td>\n",
       "      <td>4</td>\n",
       "    </tr>\n",
       "    <tr>\n",
       "      <th>BHMBCCMKT01</th>\n",
       "      <td>64</td>\n",
       "      <td>4</td>\n",
       "    </tr>\n",
       "    <tr>\n",
       "      <th>BHMBCCMKT01</th>\n",
       "      <td>80</td>\n",
       "      <td>4</td>\n",
       "    </tr>\n",
       "    <tr>\n",
       "      <th>BHMBCCMKT01</th>\n",
       "      <td>107</td>\n",
       "      <td>4</td>\n",
       "    </tr>\n",
       "    <tr>\n",
       "      <th>BHMBCCMKT01</th>\n",
       "      <td>150</td>\n",
       "      <td>4</td>\n",
       "    </tr>\n",
       "  </tbody>\n",
       "</table>\n",
       "</div>"
      ],
      "text/plain": [
       "                  Occupancy  day\n",
       "SystemCodeNumber                \n",
       "BHMBCCMKT01              61    4\n",
       "BHMBCCMKT01              64    4\n",
       "BHMBCCMKT01              80    4\n",
       "BHMBCCMKT01             107    4\n",
       "BHMBCCMKT01             150    4"
      ]
     },
     "execution_count": 10,
     "metadata": {},
     "output_type": "execute_result"
    }
   ],
   "source": [
    "parkir_X = datf.drop(['Capacity', 'year', 'month', 'hour'], axis=1)\n",
    "parkir_X.head()"
   ]
  },
  {
   "cell_type": "code",
   "execution_count": 11,
   "metadata": {},
   "outputs": [],
   "source": [
    "from sklearn.cluster import KMeans"
   ]
  },
  {
   "cell_type": "code",
   "execution_count": 12,
   "metadata": {},
   "outputs": [
    {
     "name": "stdout",
     "output_type": "stream",
     "text": [
      "[[  61    4]\n",
      " [  64    4]\n",
      " [  80    4]\n",
      " ...\n",
      " [1432   19]\n",
      " [1321   19]\n",
      " [1180   19]]\n"
     ]
    }
   ],
   "source": [
    "X_array = np.array(parkir_X)\n",
    "print(X_array)"
   ]
  },
  {
   "cell_type": "markdown",
   "metadata": {},
   "source": [
    "In this analysis, I will cluster the records into two. the ones are available and the ones are not availabe to find at what time when the driver search availability parking space to parking. It shows from n_clusters = 2"
   ]
  },
  {
   "cell_type": "code",
   "execution_count": 26,
   "metadata": {},
   "outputs": [],
   "source": [
    "kmeans = KMeans(n_clusters=2)\n",
    "kmeans.fit(X_array)\n",
    "y_kmeans = kmeans.predict(X_array)"
   ]
  },
  {
   "cell_type": "markdown",
   "metadata": {},
   "source": [
    "I will see how well the model is doing by looking at the percentage of the data that were clustered correctly"
   ]
  },
  {
   "cell_type": "code",
   "execution_count": 27,
   "metadata": {},
   "outputs": [
    {
     "name": "stdout",
     "output_type": "stream",
     "text": [
      "1.0\n"
     ]
    }
   ],
   "source": [
    "correct = 0\n",
    "for i in range(len(X_array)):\n",
    "    predict_me = np.array(X_array[i].astype(float))\n",
    "    predict_me = predict_me.reshape(-1, len(predict_me))\n",
    "    prediction = kmeans.predict(predict_me)\n",
    "    if prediction[0] == y_kmeans[i]:\n",
    "        correct += 1\n",
    "        \n",
    "print(correct/len(X_array))"
   ]
  },
  {
   "cell_type": "markdown",
   "metadata": {},
   "source": [
    "Based on the data above, the model was able to cluster correctly with a 100%. So in order to know whether by fixing the parameter of the model will affect it or not, I will enhance the performance. Some parameters which the scikit-learn implementation of K-Means provides :\n",
    "1. algorithm\n",
    "2. max_iter\n",
    "3. n_jobs\n",
    "\n",
    "the default value of max_iter in this model is 300, so I will increase it."
   ]
  },
  {
   "cell_type": "code",
   "execution_count": 39,
   "metadata": {},
   "outputs": [
    {
     "data": {
      "text/plain": [
       "KMeans(algorithm='auto', copy_x=True, init='k-means++', max_iter=600,\n",
       "       n_clusters=2, n_init=10, n_jobs=None, precompute_distances='auto',\n",
       "       random_state=None, tol=0.0001, verbose=0)"
      ]
     },
     "execution_count": 39,
     "metadata": {},
     "output_type": "execute_result"
    }
   ],
   "source": [
    "kmeans = kmeans = KMeans(n_clusters=2, max_iter=600, algorithm = 'auto')\n",
    "kmeans.fit(X_array)"
   ]
  },
  {
   "cell_type": "code",
   "execution_count": 40,
   "metadata": {},
   "outputs": [
    {
     "name": "stdout",
     "output_type": "stream",
     "text": [
      "0.9992160595794719\n"
     ]
    }
   ],
   "source": [
    "correct = 0\n",
    "for i in range(len(X_array)):\n",
    "    predict_me = np.array(X_array[i].astype(float))\n",
    "    predict_me = predict_me.reshape(-1, len(predict_me))\n",
    "    prediction = kmeans.predict(predict_me)\n",
    "    if prediction[0] == y_kmeans[i]:\n",
    "        correct += 1\n",
    "        \n",
    "print(correct/len(X_array))"
   ]
  },
  {
   "cell_type": "markdown",
   "metadata": {},
   "source": [
    "The result is a decrease in the score. One of the reasons being I have not scaled the values of the different features that I am feeding to the model. The features in the dataset contain different ranges of values. So, what happens is a small change in a feature does not effect the other feature. So I will scaled the data:"
   ]
  },
  {
   "cell_type": "code",
   "execution_count": 41,
   "metadata": {},
   "outputs": [],
   "source": [
    "scaler = MinMaxScaler()\n",
    "X_scaled = scaler.fit_transform(X_array)"
   ]
  },
  {
   "cell_type": "code",
   "execution_count": 42,
   "metadata": {},
   "outputs": [
    {
     "data": {
      "text/plain": [
       "KMeans(algorithm='auto', copy_x=True, init='k-means++', max_iter=600,\n",
       "       n_clusters=2, n_init=10, n_jobs=None, precompute_distances='auto',\n",
       "       random_state=None, tol=0.0001, verbose=0)"
      ]
     },
     "execution_count": 42,
     "metadata": {},
     "output_type": "execute_result"
    }
   ],
   "source": [
    "kmeans.fit(X_scaled)"
   ]
  },
  {
   "cell_type": "code",
   "execution_count": 44,
   "metadata": {},
   "outputs": [
    {
     "name": "stdout",
     "output_type": "stream",
     "text": [
      "0.8686339838172299\n"
     ]
    }
   ],
   "source": [
    "correct = 0\n",
    "for i in range(len(X_array)):\n",
    "    predict_me = np.array(X_array[i].astype(float))\n",
    "    predict_me = predict_me.reshape(-1, len(predict_me))\n",
    "    prediction = kmeans.predict(predict_me)\n",
    "    if prediction[0] == y_kmeans[i]:\n",
    "        correct += 1\n",
    "        \n",
    "print(correct/len(X_array))"
   ]
  },
  {
   "cell_type": "markdown",
   "metadata": {},
   "source": [
    "The data increase than before. That is the accuracy of this model. So I will show the data using a scatter method"
   ]
  },
  {
   "cell_type": "code",
   "execution_count": 45,
   "metadata": {},
   "outputs": [
    {
     "data": {
      "image/png": "[encoded data removed]",
      "text/plain": [
       "<Figure size 432x288 with 1 Axes>"
      ]
     },
     "metadata": {
      "needs_background": "light"
     },
     "output_type": "display_data"
    }
   ],
   "source": [
    "result = plt.scatter(X_array[:, 1], X_array[:, 0], c=y_kmeans, s=100, cmap='viridis')\n",
    "\n",
    "centers = kmeans.cluster_centers_\n",
    "plt.scatter(centers[:, 1], centers[:, 0], c='black', s=200, alpha=1)\n",
    "plt.xlabel('Occupancy')\n",
    "plt.ylabel('day')\n",
    "plt.title(\"Visualization of the result K-Means CLustering\")\n",
    "\n",
    "plt.show()"
   ]
  },
  {
   "cell_type": "markdown",
   "metadata": {},
   "source": [
    "### 6. Experiment result\n",
    "Based on the data above, the result is, the model was able to cluster correctly 86%. The first prediction is 100%, then in order to know whether by fixing the parameter of the model will affect it or not, I will enhance the performance. The result is 99%. The model decrease about 1%. One of the reasons being I have not scaled the values of the different features that I am feeding to the model. The features in the dataset contain different ranges of values. So, what happens is a small change in a feature does not effect the other feature. So I will scaled the data. After I scaled the data, the result is 86%. That decrease about 13%. The last prediction is the final result of this model clustering. "
   ]
  },
  {
   "cell_type": "markdown",
   "metadata": {},
   "source": [
    "### 7. Discussion\n",
    "If we have to compare the result of this model analysis with the result of another author, we will know if the result is different. Another author said if the K-Means Clustering was the worst predictors as they are based on just the three clusters defined in training. They choose to cluster into 3 clusters then the result is not good, but in this analysis, I cluster the records into 2. the ones are available and the ones are not availabe to find at what time when the driver search availability parking space to parking. So the biggest disadvantage is that K-Means requires to pre-specify the number of clusters (k). Hierarchical clustering is an alternative approach that does not require a particular choice of clusters. An additional disadvantage of K-Means is that it is sensitive to outliers and different results can occur if I change the ordering of the data. K-Means is not a good learner where generalization of the training data is delayed until a query is made to the system. This means K-Means starts working only when I trigger it to, this method can construct a different approximation or result in the target function for each encountered query."
   ]
  },
  {
   "cell_type": "markdown",
   "metadata": {},
   "source": [
    "### 8. Conclusion\n",
    "So in this analysis, if I cluster into 2 clusters the result will be good and has the accuracy of around 86%. But if you change another value or increase the cluster the data is not good. Because the number of clusters in the K-Means Clustering has an effect on the data."
   ]
  },
  {
   "cell_type": "markdown",
   "metadata": {},
   "source": [
    "Source:\n",
    "\n",
    "- [1]       Daniel  H,  and  etc.2017.Predicting  Car  Park  Occupancy  Rates  in  Smart  Cities. Univeristy of Birmingham: the United Kingdom.\n",
    "- [2]       Andreas  C.M and Sarah G.2017.Introduction to Machine Learning with Python-A Guide for Data Science. The United States of America.\n"
   ]
  },
  {
   "cell_type": "markdown",
   "metadata": {},
   "source": [
    "Note :\n",
    "- You can find the data in this link:\n",
    "- [Parking Birmingham][https://archive.ics.uci.edu/ml/datasets/Parking+Birmingham]"
   ]
  },
  {
   "cell_type": "code",
   "execution_count": null,
   "metadata": {},
   "outputs": [],
   "source": []
  }
 ],
 "metadata": {
  "kernelspec": {
   "display_name": "Python 3",
   "language": "python",
   "name": "python3"
  },
  "language_info": {
   "codemirror_mode": {
    "name": "ipython",
    "version": 3
   },
   "file_extension": ".py",
   "mimetype": "text/x-python",
   "name": "python",
   "nbconvert_exporter": "python",
   "pygments_lexer": "ipython3",
   "version": "3.7.3"
  }
 },
 "nbformat": 4,
 "nbformat_minor": 2
}
